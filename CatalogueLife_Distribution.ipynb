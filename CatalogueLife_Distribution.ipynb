{
 "cells": [
  {
   "cell_type": "markdown",
   "metadata": {},
   "source": [
    "This notebook reads in 3 different files from the Catalogue of Life into dataframes: vernacular, taxa, and locationdescription (cleaned in CatalogueLife_Distribution_cleaning, and imported as distribution). Then it merges all the dataframes into one using the taxonID. This final dataframe is exported into cataloguelife_poly.csv to be merged with GenBank records on scientific name, when applicable.  "
   ]
  },
  {
   "cell_type": "code",
   "execution_count": 1,
   "metadata": {
    "collapsed": true
   },
   "outputs": [],
   "source": [
    "import re\n",
    "import pandas as pd"
   ]
  },
  {
   "cell_type": "code",
   "execution_count": 2,
   "metadata": {
    "collapsed": true
   },
   "outputs": [],
   "source": [
    "vernacular = \"poly_vernacular.txt\"\n",
    "taxa = \"poly_taxa.txt\"\n",
    "distribution = \"poly_distribution.csv\"\n",
    "outfile = \"poly_cataloguelife.csv\""
   ]
  },
  {
   "cell_type": "code",
   "execution_count": 3,
   "metadata": {},
   "outputs": [
    {
     "data": {
      "text/html": [
       "<div>\n",
       "<style scoped>\n",
       "    .dataframe tbody tr th:only-of-type {\n",
       "        vertical-align: middle;\n",
       "    }\n",
       "\n",
       "    .dataframe tbody tr th {\n",
       "        vertical-align: top;\n",
       "    }\n",
       "\n",
       "    .dataframe thead th {\n",
       "        text-align: right;\n",
       "    }\n",
       "</style>\n",
       "<table border=\"1\" class=\"dataframe\">\n",
       "  <thead>\n",
       "    <tr style=\"text-align: right;\">\n",
       "      <th></th>\n",
       "      <th>taxonID</th>\n",
       "      <th>vernacularName</th>\n",
       "    </tr>\n",
       "  </thead>\n",
       "  <tbody>\n",
       "    <tr>\n",
       "      <th>0</th>\n",
       "      <td>45195094</td>\n",
       "      <td>Thinleaf creepingfern</td>\n",
       "    </tr>\n",
       "    <tr>\n",
       "      <th>1</th>\n",
       "      <td>45195512</td>\n",
       "      <td>Tongue fern</td>\n",
       "    </tr>\n",
       "    <tr>\n",
       "      <th>2</th>\n",
       "      <td>45196512</td>\n",
       "      <td>Ekaha</td>\n",
       "    </tr>\n",
       "    <tr>\n",
       "      <th>3</th>\n",
       "      <td>45197311</td>\n",
       "      <td>Iron fern</td>\n",
       "    </tr>\n",
       "    <tr>\n",
       "      <th>4</th>\n",
       "      <td>45197822</td>\n",
       "      <td>Trim Shield fern</td>\n",
       "    </tr>\n",
       "  </tbody>\n",
       "</table>\n",
       "</div>"
      ],
      "text/plain": [
       "    taxonID         vernacularName\n",
       "0  45195094  Thinleaf creepingfern\n",
       "1  45195512            Tongue fern\n",
       "2  45196512                  Ekaha\n",
       "3  45197311              Iron fern\n",
       "4  45197822       Trim Shield fern"
      ]
     },
     "execution_count": 3,
     "metadata": {},
     "output_type": "execute_result"
    }
   ],
   "source": [
    "common = pd.read_csv(vernacular, sep=\"\\t\")\n",
    "common_df = common.drop(['language', 'countryCode', 'locality', 'transliteration'], axis=1)\n",
    "\n",
    "common_df.head()"
   ]
  },
  {
   "cell_type": "code",
   "execution_count": 4,
   "metadata": {},
   "outputs": [
    {
     "data": {
      "text/html": [
       "<div>\n",
       "<style scoped>\n",
       "    .dataframe tbody tr th:only-of-type {\n",
       "        vertical-align: middle;\n",
       "    }\n",
       "\n",
       "    .dataframe tbody tr th {\n",
       "        vertical-align: top;\n",
       "    }\n",
       "\n",
       "    .dataframe thead th {\n",
       "        text-align: right;\n",
       "    }\n",
       "</style>\n",
       "<table border=\"1\" class=\"dataframe\">\n",
       "  <thead>\n",
       "    <tr style=\"text-align: right;\">\n",
       "      <th></th>\n",
       "      <th>taxonID</th>\n",
       "      <th>datasetName</th>\n",
       "      <th>scientificName</th>\n",
       "      <th>genericName</th>\n",
       "      <th>specificEpithet</th>\n",
       "      <th>infraspecificEpithet</th>\n",
       "      <th>scientificNameAuthorship</th>\n",
       "    </tr>\n",
       "  </thead>\n",
       "  <tbody>\n",
       "    <tr>\n",
       "      <th>0</th>\n",
       "      <td>45194626</td>\n",
       "      <td>World Ferns in Species 2000 &amp; ITIS Catalogue o...</td>\n",
       "      <td>Bolbitis novoguineensis Hennipman</td>\n",
       "      <td>Bolbitis</td>\n",
       "      <td>novoguineensis</td>\n",
       "      <td>NaN</td>\n",
       "      <td>Hennipman</td>\n",
       "    </tr>\n",
       "    <tr>\n",
       "      <th>1</th>\n",
       "      <td>45194627</td>\n",
       "      <td>World Ferns in Species 2000 &amp; ITIS Catalogue o...</td>\n",
       "      <td>Bolbitis occidentalis R.C.Moran</td>\n",
       "      <td>Bolbitis</td>\n",
       "      <td>occidentalis</td>\n",
       "      <td>NaN</td>\n",
       "      <td>R.C.Moran</td>\n",
       "    </tr>\n",
       "    <tr>\n",
       "      <th>2</th>\n",
       "      <td>45194629</td>\n",
       "      <td>World Ferns in Species 2000 &amp; ITIS Catalogue o...</td>\n",
       "      <td>Acrostichum pandurifolium (Hook.) Hook.</td>\n",
       "      <td>Acrostichum</td>\n",
       "      <td>pandurifolium</td>\n",
       "      <td>NaN</td>\n",
       "      <td>(Hook.) Hook.</td>\n",
       "    </tr>\n",
       "    <tr>\n",
       "      <th>3</th>\n",
       "      <td>45194630</td>\n",
       "      <td>World Ferns in Species 2000 &amp; ITIS Catalogue o...</td>\n",
       "      <td>Gymnopteris pandurifolia Hook.</td>\n",
       "      <td>Gymnopteris</td>\n",
       "      <td>pandurifolia</td>\n",
       "      <td>NaN</td>\n",
       "      <td>Hook.</td>\n",
       "    </tr>\n",
       "    <tr>\n",
       "      <th>4</th>\n",
       "      <td>45194631</td>\n",
       "      <td>World Ferns in Species 2000 &amp; ITIS Catalogue o...</td>\n",
       "      <td>Leptochilus pandurifolius (Hook.) C. Chr.</td>\n",
       "      <td>Leptochilus</td>\n",
       "      <td>pandurifolius</td>\n",
       "      <td>NaN</td>\n",
       "      <td>(Hook.) C. Chr.</td>\n",
       "    </tr>\n",
       "  </tbody>\n",
       "</table>\n",
       "</div>"
      ],
      "text/plain": [
       "    taxonID                                        datasetName  \\\n",
       "0  45194626  World Ferns in Species 2000 & ITIS Catalogue o...   \n",
       "1  45194627  World Ferns in Species 2000 & ITIS Catalogue o...   \n",
       "2  45194629  World Ferns in Species 2000 & ITIS Catalogue o...   \n",
       "3  45194630  World Ferns in Species 2000 & ITIS Catalogue o...   \n",
       "4  45194631  World Ferns in Species 2000 & ITIS Catalogue o...   \n",
       "\n",
       "                              scientificName  genericName specificEpithet  \\\n",
       "0          Bolbitis novoguineensis Hennipman     Bolbitis  novoguineensis   \n",
       "1            Bolbitis occidentalis R.C.Moran     Bolbitis    occidentalis   \n",
       "2    Acrostichum pandurifolium (Hook.) Hook.  Acrostichum   pandurifolium   \n",
       "3             Gymnopteris pandurifolia Hook.  Gymnopteris    pandurifolia   \n",
       "4  Leptochilus pandurifolius (Hook.) C. Chr.  Leptochilus   pandurifolius   \n",
       "\n",
       "  infraspecificEpithet scientificNameAuthorship  \n",
       "0                  NaN                Hennipman  \n",
       "1                  NaN                R.C.Moran  \n",
       "2                  NaN            (Hook.) Hook.  \n",
       "3                  NaN                    Hook.  \n",
       "4                  NaN          (Hook.) C. Chr.  "
      ]
     },
     "execution_count": 4,
     "metadata": {},
     "output_type": "execute_result"
    }
   ],
   "source": [
    "taxa_expand = pd.read_csv(taxa, sep=\"\\t\", dtype=\"object\")\n",
    "scientific = taxa_expand[['taxonID', 'datasetName', 'scientificName', 'genericName', 'specificEpithet', 'infraspecificEpithet',\n",
    "                        'scientificNameAuthorship']]\n",
    "scientific.head()"
   ]
  },
  {
   "cell_type": "code",
   "execution_count": 5,
   "metadata": {},
   "outputs": [
    {
     "name": "stderr",
     "output_type": "stream",
     "text": [
      "C:\\Users\\daria\\Anaconda3\\lib\\site-packages\\ipykernel_launcher.py:7: SettingWithCopyWarning: \n",
      "A value is trying to be set on a copy of a slice from a DataFrame.\n",
      "Try using .loc[row_indexer,col_indexer] = value instead\n",
      "\n",
      "See the caveats in the documentation: http://pandas.pydata.org/pandas-docs/stable/indexing.html#indexing-view-versus-copy\n",
      "  import sys\n"
     ]
    }
   ],
   "source": [
    "# scientific['base'] = scientific['genericName'] + \" \" + scientific['specificEpithet']\n",
    "# scientific['extra'] = \" var. \" + scientific['infraspecificEpithet']\n",
    "# scientific['sci_name'] = scientific['base'] + scientific['extra']\n",
    "\n",
    "base = scientific['genericName'].fillna('') + \" \" + scientific['specificEpithet'].fillna('')\n",
    "extra = \" var. \" + scientific['infraspecificEpithet']\n",
    "scientific['sci_name'] = base + extra.fillna('')"
   ]
  },
  {
   "cell_type": "code",
   "execution_count": 6,
   "metadata": {},
   "outputs": [
    {
     "name": "stderr",
     "output_type": "stream",
     "text": [
      "C:\\Users\\daria\\Anaconda3\\lib\\site-packages\\ipykernel_launcher.py:2: SettingWithCopyWarning: \n",
      "A value is trying to be set on a copy of a slice from a DataFrame.\n",
      "Try using .loc[row_indexer,col_indexer] = value instead\n",
      "\n",
      "See the caveats in the documentation: http://pandas.pydata.org/pandas-docs/stable/indexing.html#indexing-view-versus-copy\n",
      "  \n"
     ]
    },
    {
     "data": {
      "text/html": [
       "<div>\n",
       "<style scoped>\n",
       "    .dataframe tbody tr th:only-of-type {\n",
       "        vertical-align: middle;\n",
       "    }\n",
       "\n",
       "    .dataframe tbody tr th {\n",
       "        vertical-align: top;\n",
       "    }\n",
       "\n",
       "    .dataframe thead th {\n",
       "        text-align: right;\n",
       "    }\n",
       "</style>\n",
       "<table border=\"1\" class=\"dataframe\">\n",
       "  <thead>\n",
       "    <tr style=\"text-align: right;\">\n",
       "      <th></th>\n",
       "      <th>taxonID</th>\n",
       "      <th>sci_name</th>\n",
       "    </tr>\n",
       "  </thead>\n",
       "  <tbody>\n",
       "    <tr>\n",
       "      <th>0</th>\n",
       "      <td>45194626</td>\n",
       "      <td>Bolbitis novoguineensis</td>\n",
       "    </tr>\n",
       "    <tr>\n",
       "      <th>1</th>\n",
       "      <td>45194627</td>\n",
       "      <td>Bolbitis occidentalis</td>\n",
       "    </tr>\n",
       "    <tr>\n",
       "      <th>2</th>\n",
       "      <td>45194629</td>\n",
       "      <td>Acrostichum pandurifolium</td>\n",
       "    </tr>\n",
       "    <tr>\n",
       "      <th>3</th>\n",
       "      <td>45194630</td>\n",
       "      <td>Gymnopteris pandurifolia</td>\n",
       "    </tr>\n",
       "    <tr>\n",
       "      <th>4</th>\n",
       "      <td>45194631</td>\n",
       "      <td>Leptochilus pandurifolius</td>\n",
       "    </tr>\n",
       "  </tbody>\n",
       "</table>\n",
       "</div>"
      ],
      "text/plain": [
       "    taxonID                   sci_name\n",
       "0  45194626    Bolbitis novoguineensis\n",
       "1  45194627      Bolbitis occidentalis\n",
       "2  45194629  Acrostichum pandurifolium\n",
       "3  45194630   Gymnopteris pandurifolia\n",
       "4  45194631  Leptochilus pandurifolius"
      ]
     },
     "execution_count": 6,
     "metadata": {},
     "output_type": "execute_result"
    }
   ],
   "source": [
    "scientific_df = scientific[['taxonID', 'sci_name']]\n",
    "scientific_df['taxonID']=scientific_df['taxonID'].apply(int)\n",
    "scientific_df.head()"
   ]
  },
  {
   "cell_type": "code",
   "execution_count": 7,
   "metadata": {},
   "outputs": [
    {
     "data": {
      "text/html": [
       "<div>\n",
       "<style scoped>\n",
       "    .dataframe tbody tr th:only-of-type {\n",
       "        vertical-align: middle;\n",
       "    }\n",
       "\n",
       "    .dataframe tbody tr th {\n",
       "        vertical-align: top;\n",
       "    }\n",
       "\n",
       "    .dataframe thead th {\n",
       "        text-align: right;\n",
       "    }\n",
       "</style>\n",
       "<table border=\"1\" class=\"dataframe\">\n",
       "  <thead>\n",
       "    <tr style=\"text-align: right;\">\n",
       "      <th></th>\n",
       "      <th>taxonID</th>\n",
       "      <th>geopolitical_regions</th>\n",
       "      <th>location_distribution</th>\n",
       "    </tr>\n",
       "  </thead>\n",
       "  <tbody>\n",
       "    <tr>\n",
       "      <th>0</th>\n",
       "      <td>45194626</td>\n",
       "      <td>['Melanesia, Micronesia &amp; Polynesia']</td>\n",
       "      <td>['New Guinea']</td>\n",
       "    </tr>\n",
       "    <tr>\n",
       "      <th>1</th>\n",
       "      <td>45194627</td>\n",
       "      <td>['South America']</td>\n",
       "      <td>['Ecuador']</td>\n",
       "    </tr>\n",
       "    <tr>\n",
       "      <th>2</th>\n",
       "      <td>45194628</td>\n",
       "      <td>['South America']</td>\n",
       "      <td>['Bolivia;Ecuador;Peru']</td>\n",
       "    </tr>\n",
       "    <tr>\n",
       "      <th>3</th>\n",
       "      <td>45194632</td>\n",
       "      <td>['Central America;South America;Undefined;Cari...</td>\n",
       "      <td>['Mexico;Belize;Guatemala;Honduras;El Salvador...</td>\n",
       "    </tr>\n",
       "    <tr>\n",
       "      <th>4</th>\n",
       "      <td>45194645</td>\n",
       "      <td>['Southern Asia']</td>\n",
       "      <td>['India']</td>\n",
       "    </tr>\n",
       "  </tbody>\n",
       "</table>\n",
       "</div>"
      ],
      "text/plain": [
       "    taxonID                               geopolitical_regions  \\\n",
       "0  45194626              ['Melanesia, Micronesia & Polynesia']   \n",
       "1  45194627                                  ['South America']   \n",
       "2  45194628                                  ['South America']   \n",
       "3  45194632  ['Central America;South America;Undefined;Cari...   \n",
       "4  45194645                                  ['Southern Asia']   \n",
       "\n",
       "                               location_distribution  \n",
       "0                                     ['New Guinea']  \n",
       "1                                        ['Ecuador']  \n",
       "2                           ['Bolivia;Ecuador;Peru']  \n",
       "3  ['Mexico;Belize;Guatemala;Honduras;El Salvador...  \n",
       "4                                          ['India']  "
      ]
     },
     "execution_count": 7,
     "metadata": {},
     "output_type": "execute_result"
    }
   ],
   "source": [
    "location_df = pd.read_csv(distribution)\n",
    "location_df.drop(columns=['Unnamed: 0'], inplace=True)\n",
    "location_df.head()"
   ]
  },
  {
   "cell_type": "markdown",
   "metadata": {},
   "source": [
    "Merging scientific_df and common_df together."
   ]
  },
  {
   "cell_type": "code",
   "execution_count": 8,
   "metadata": {},
   "outputs": [
    {
     "data": {
      "text/html": [
       "<div>\n",
       "<style scoped>\n",
       "    .dataframe tbody tr th:only-of-type {\n",
       "        vertical-align: middle;\n",
       "    }\n",
       "\n",
       "    .dataframe tbody tr th {\n",
       "        vertical-align: top;\n",
       "    }\n",
       "\n",
       "    .dataframe thead th {\n",
       "        text-align: right;\n",
       "    }\n",
       "</style>\n",
       "<table border=\"1\" class=\"dataframe\">\n",
       "  <thead>\n",
       "    <tr style=\"text-align: right;\">\n",
       "      <th></th>\n",
       "      <th>taxonID</th>\n",
       "      <th>sci_name</th>\n",
       "      <th>vernacularName</th>\n",
       "    </tr>\n",
       "  </thead>\n",
       "  <tbody>\n",
       "    <tr>\n",
       "      <th>0</th>\n",
       "      <td>45194626</td>\n",
       "      <td>Bolbitis novoguineensis</td>\n",
       "      <td>NaN</td>\n",
       "    </tr>\n",
       "    <tr>\n",
       "      <th>1</th>\n",
       "      <td>45194627</td>\n",
       "      <td>Bolbitis occidentalis</td>\n",
       "      <td>NaN</td>\n",
       "    </tr>\n",
       "    <tr>\n",
       "      <th>2</th>\n",
       "      <td>45194629</td>\n",
       "      <td>Acrostichum pandurifolium</td>\n",
       "      <td>NaN</td>\n",
       "    </tr>\n",
       "    <tr>\n",
       "      <th>3</th>\n",
       "      <td>45194630</td>\n",
       "      <td>Gymnopteris pandurifolia</td>\n",
       "      <td>NaN</td>\n",
       "    </tr>\n",
       "    <tr>\n",
       "      <th>4</th>\n",
       "      <td>45194631</td>\n",
       "      <td>Leptochilus pandurifolius</td>\n",
       "      <td>NaN</td>\n",
       "    </tr>\n",
       "  </tbody>\n",
       "</table>\n",
       "</div>"
      ],
      "text/plain": [
       "    taxonID                   sci_name vernacularName\n",
       "0  45194626    Bolbitis novoguineensis            NaN\n",
       "1  45194627      Bolbitis occidentalis            NaN\n",
       "2  45194629  Acrostichum pandurifolium            NaN\n",
       "3  45194630   Gymnopteris pandurifolia            NaN\n",
       "4  45194631  Leptochilus pandurifolius            NaN"
      ]
     },
     "execution_count": 8,
     "metadata": {},
     "output_type": "execute_result"
    }
   ],
   "source": [
    "merged1 = pd.merge(scientific_df, common_df, how = \"left\", on=\"taxonID\")\n",
    "# merged1[merged1['vernacularName'].notnull()]\n",
    "merged1.head()"
   ]
  },
  {
   "cell_type": "code",
   "execution_count": 9,
   "metadata": {},
   "outputs": [
    {
     "data": {
      "text/html": [
       "<div>\n",
       "<style scoped>\n",
       "    .dataframe tbody tr th:only-of-type {\n",
       "        vertical-align: middle;\n",
       "    }\n",
       "\n",
       "    .dataframe tbody tr th {\n",
       "        vertical-align: top;\n",
       "    }\n",
       "\n",
       "    .dataframe thead th {\n",
       "        text-align: right;\n",
       "    }\n",
       "</style>\n",
       "<table border=\"1\" class=\"dataframe\">\n",
       "  <thead>\n",
       "    <tr style=\"text-align: right;\">\n",
       "      <th></th>\n",
       "      <th>sci_name</th>\n",
       "      <th>vernacularName</th>\n",
       "      <th>geopolitical_regions</th>\n",
       "      <th>location_distribution</th>\n",
       "    </tr>\n",
       "  </thead>\n",
       "  <tbody>\n",
       "    <tr>\n",
       "      <th>0</th>\n",
       "      <td>Bolbitis novoguineensis</td>\n",
       "      <td>NaN</td>\n",
       "      <td>['Melanesia, Micronesia &amp; Polynesia']</td>\n",
       "      <td>['New Guinea']</td>\n",
       "    </tr>\n",
       "    <tr>\n",
       "      <th>1</th>\n",
       "      <td>Bolbitis occidentalis</td>\n",
       "      <td>NaN</td>\n",
       "      <td>['South America']</td>\n",
       "      <td>['Ecuador']</td>\n",
       "    </tr>\n",
       "    <tr>\n",
       "      <th>2</th>\n",
       "      <td>Acrostichum pandurifolium</td>\n",
       "      <td>NaN</td>\n",
       "      <td>NaN</td>\n",
       "      <td>NaN</td>\n",
       "    </tr>\n",
       "    <tr>\n",
       "      <th>3</th>\n",
       "      <td>Gymnopteris pandurifolia</td>\n",
       "      <td>NaN</td>\n",
       "      <td>NaN</td>\n",
       "      <td>NaN</td>\n",
       "    </tr>\n",
       "    <tr>\n",
       "      <th>4</th>\n",
       "      <td>Leptochilus pandurifolius</td>\n",
       "      <td>NaN</td>\n",
       "      <td>NaN</td>\n",
       "      <td>NaN</td>\n",
       "    </tr>\n",
       "  </tbody>\n",
       "</table>\n",
       "</div>"
      ],
      "text/plain": [
       "                    sci_name vernacularName  \\\n",
       "0    Bolbitis novoguineensis            NaN   \n",
       "1      Bolbitis occidentalis            NaN   \n",
       "2  Acrostichum pandurifolium            NaN   \n",
       "3   Gymnopteris pandurifolia            NaN   \n",
       "4  Leptochilus pandurifolius            NaN   \n",
       "\n",
       "                    geopolitical_regions location_distribution  \n",
       "0  ['Melanesia, Micronesia & Polynesia']        ['New Guinea']  \n",
       "1                      ['South America']           ['Ecuador']  \n",
       "2                                    NaN                   NaN  \n",
       "3                                    NaN                   NaN  \n",
       "4                                    NaN                   NaN  "
      ]
     },
     "execution_count": 9,
     "metadata": {},
     "output_type": "execute_result"
    }
   ],
   "source": [
    "catlife = pd.merge(merged1, location_df,  how = \"left\", on=\"taxonID\")\n",
    "catlife.drop(columns=[\"taxonID\"], inplace= True)\n",
    "catlife.head()"
   ]
  },
  {
   "cell_type": "code",
   "execution_count": 10,
   "metadata": {
    "collapsed": true
   },
   "outputs": [],
   "source": [
    "catlife.to_csv(outfile)"
   ]
  }
 ],
 "metadata": {
  "kernelspec": {
   "display_name": "Python 3",
   "language": "python",
   "name": "python3"
  },
  "language_info": {
   "codemirror_mode": {
    "name": "ipython",
    "version": 3
   },
   "file_extension": ".py",
   "mimetype": "text/x-python",
   "name": "python",
   "nbconvert_exporter": "python",
   "pygments_lexer": "ipython3",
   "version": "3.6.1"
  }
 },
 "nbformat": 4,
 "nbformat_minor": 2
}
