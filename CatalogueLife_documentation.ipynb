{
 "cells": [
  {
   "cell_type": "markdown",
   "metadata": {},
   "source": [
    "This notebook is a branch-off of CatalogueLife_Distribution.ipynb and serves as documentation about changes I have made to my geopolitical dictionary and additional cleaning to \"poly_locationdescription.txt\" after the locations did not match to my dictionary."
   ]
  },
  {
   "cell_type": "markdown",
   "metadata": {
    "collapsed": true
   },
   "source": [
    "__Countries not in dictionary:__\n",
    "\n",
    "{'', 'trop. Asia', 'Idaho', 'Bahia', 'Yucatan', 'Island Crozet', 'Melanesia', 'Westfalen', 'St. Barthelemy', 'Cheju Island', 'Espirito Santo', 'Victoria', 'Falcon', 'Moen', 'Juan Fernndez Island', 'Lesser Sunda Island', 'North Island', 'Virgin Gorda', 'Puebla', 'North Carolina', 'Pohnpei', 'Ivory Coast', 'Macquarie Island', 'Yakushima Island', '& Thailand', 'District of Columbia', 'Henan', 'Wallis and Futuna Island', 'Ua Pou', 'European Turkey', 'Sumatra to Sumatra', 'Kentucky', 'Panama Cuba', 'Prince Edward Island', 'Tokara Island', 'Cayman Island', 'cultivated origin', 'Washington', 'Alaska', 'Pernambuco', 'St. Thomas', 'Faial', 'Inaccessible Island', 'D.R.Congo', 'Flores', 'Carabobo', 'Island Amsterdam', 'Jujuy', 'Kauai', 'Palawan', 'Chaco', 'Caucasus', 'Line Island', 'from', 'Faroer Island', 'Turks & Caicos Island', 'Selangor', 'Japan  India', 'Tolima', 'Java', 'Kerguelen Island', 'Molokai', 'Society Island', 'Misiones', 'Volcano Island', 'Peleliu', 'Shanxi', 'Grenadines', 'Sao Tome', 'Colombia Bolivia', 'Gambier Island', 'Lanai', 'Mississippi', 'Arkansas', 'Juan Fdz. Island', 'Jammu & Kashmir', 'St. Pierre et Miquelon', 'Santander', 'Izu Island', 'Marie Galante Island', 'Uttarakhand', 'remains uncertain', 'Santa Cruz Island', 'Queretaro', 'Kuri Island', 'Limpopo', 'La Desirade', 'Sao Tom', 'Pico', 'trop. South America', 'Pitcairn Island', 'Auckland Island', 'Cult.', 'U.S. Virgin Island', 'Fatu Hiva', 'Solomon Island', 'Tuamotu Arch.', 'Connecticut', 'Marie Galante', 'described from cultivated material in Holland', 'St. Lucia', 'EI Salvador', 'St. Martin', 'Tuvalu Island', 'possibly from Ecuador', 'Campeche', 'Putumayo', 'etc.', 'Hawaii', 'Nagaland', 'Corvo Island', 'Middle Island', 'Malaysia Selangor', 'Vaups', 'Nevis', 'Sinai peninsula', 'Arizona', 'La Dsiderade', 'Rodrigues Island', 'Texas', 'St. Kitts', 'Hispaniola', 'Virginia', 'Sardinia', 'Mato Grosso do Sul', 'Sao Jorge', 'Polynesia', 'Bissau', 'Natal', 'Cape Prov.', 'Zulia', 'Sucre', 'Tanegashima Island', 'Tamaulipas', 'Nei Mongol', 'Liaoning', 'Mpulamanga', 'Rivera', 'Xinjiang', 'Mindanao', 'Baja California', 'Stoltenhoff Island', '& Sumatra', 'Tinian', 'Lesser Antilles', 'Brazil  Brazil', 'South Korea  Ryukyu Island', 'Yunnan', 'Terceira', 'New York', 'Principe Island', 'Baleares', 'Alps', 'Europe', 'Parana', 'cult.', 'Himachal Pradesh', 'Anatolia', 'Gran Canaria', 'Aleutes', 'origin unknown', 'Karpathos', 'Sarawak', 'Vieques Island', 'China (Guangdong', 'and  Thailand', 'Snares Island', 'Bismarck Arch.', 'Himalaya', 'Magdalena', 'Canary Is.', 'Marquesas Island', 'Russian Far East  North Korea', 'La Desiderade', 'Sitka Island', 'Gough Island', 'Pulau Tioman', 'Gunung Leuser', 'Malakal', 'Formosa Prov.', 'Nueva Esparta', 'Kahoolawe Island', 'St. Vincent', '& Taiwan', 'Carolina Island', 'Eastern Mediterranean', 'Tahiti', 'Huila', 'Channel Island', 'La Palma Island', 'Hainan', 'Florida', 'Tasmania', 'Vanuatu {this includes all Indian and Indochina populations of A. unilaterale fide Jenkins et al. . Whether the Australasian and Pacific records belong here', 'Falkland Island', 'Assam State', 'trop. Africa', 'ldenburg River to Morobe District', 'Annobon Island', 'Crete', 'Island Margarita', 'Santa Fe', 'Lombok', 'Revillagigedos Island', 'Marion Island', 'Rhodos', 'to be expected in Bolivia', 'Nicobar Island', 'Hiva Oa', 'Meghalaya', 'Lord Howe Island', 'Trujillo', 'Galapagos', 'Hebei', 'South Carolina', 'Tachira', 'Guana', 'Urals', 'Tucuman', 'Manipur', 'and Taiwan', 'Futuna Island', 'New South Wales', 'Siberia', 'Crimea', 'Azerbajian', 'Louisiana', 'Gauteng', 'Malesia', 'St. Eustatius', 'Fuerteventura', 'New Ile Amsterdam', 'Gilbert Island', 'California', 'Hawaii Island', 'Sulawesi', 'Socotra', 'American Island', 'Perak', 'Marianas', 'tropical Asia', 'Antipodes Island', 'Rio Grande do Sul', 'Island del Coco', 'Catamarca', 'Chagos Arch.', 'Santa Catarina', 'Channel Islandnds', 'Iles Crozet', 'Tsushima Island', 'Anegada', 'Sicily', 'Flores Island', 'Hort.', '#India', 'Malpelo Island', 'La Gomera', 'Tristan da Cunha', 'Elba', 'Minanda Island', 'Indiana', 'St. Christopher', 'Galega Island', 'to be expected in the Guianas', 'So Tom', 'Islands Selvagens', 'D.R. Congo', 'Marshall Island', 'Indochina', 'Tibet', 'Amazonas', 'Ascension', 'Morelos', 'Ontario', 'Maui', 'Salta', 'Langkawi', 'Oahu', 'Swaziland', 'Chatham Island', 'Pacific', 'Pemba Island', 'Portuguesa', 'Sao Paulo', 'subantarctic South America', 'Merida', 'Andaman Island', 'Tortola', 'England', 'Cook Island', 'Sumatra', 'Sao Miguel Island', 'Acre', 'Austral Island', 'Distribution unknown', 'Ohio', 'Kahoolawe', 'Shaanxi', 'Central America', '& European Russia', 'Norway to Hungary and Dalmatia', 'Kermadec Island', 'Valle', 'Island Guadalupe', 'Spitsbergen', 'Colima', 'Wallis Island', 'Pulau Langkawi', 'Miranda', 'Barinas', 'St. John', ']', 'Rodrigues Island India', 'Bonin Island', 'Malesia to New Guinea', 'Luzon', 'Les Saintes Island', 'Greater Antilles', 'Easter Island', 'Scandinavia', 'Cape Verde Island', 'Mexico State', 'Azores', 'Virgin Island', 'Johor', 'Tabasco', 'St. Croix', 'Saharan Mts.', 'Oaxaca', 'Norte de Santander', 'Langkawi Island', 'Galapagos Island', 'Thringen', 'and surrounding islands', 'Saipan', 'Guarico', 'Luxemburg', 'India (Arunachal Pradesh', 'Marquesas', 'Corrientes', 'Oregon', 'North America', 'Redonda', 'Rota Island', 'Rotuma Island', 'Mona Island', 'Pahan', 'Iles Kerguelen', 'Tahuata', 'Ryukyu Island', 'Bioko Island', 'Quintana Roo', 'Sipora Island', 'Rodrigues', 'Pakistani Kashmir', 'Tawitawi', 'Caldas', 'Comoros (Anjouan', 'Chiapas', 'Alagoas', 'Carpathians', 'Nicaragua to Colombia', 'Guerrero', 'Guianas', 'Oeno Atoll', 'Bismarck Island', 'Pahang', 'Canary Island', 'Ile Amsterdam', 'Lara', 'Zanmbia', 'Choc', 'Monagas', 'Guangxi', 'Campbell Island', 'Madeira', 'Northern Caucasus', 'St. Helena', 'Queensland', 'New Jersey', 'South America', 'Samha Island', 'Veracruz', 'and Afghanistan', 'Burma', 'Cordoba', 'Maryland', 'St. Paul Island', 'Tenerife', 'Palau Island', 'San Clemente Island', 'Nightingale Island', 'Corsica', 'Nuku Hiva', 'Ascension Island', 'Serbia & Kosovo', 'Distrito Federal', 'Island of Pines', 'Illinois', 'Kermadec Island Chatham Island', 'Rio de Janeiro', 'Timor', 'Goias', 'Malay Islands', 'Negeri Sembilan', 'Henderson Island', 'South Georgia Island', 'Cundinamarca', 'Zanzibar', 'Culebra Island', 'East Aegaean Island', 'Asia', 'Sichuan', 'Nevis Island', 'Sabah', 'St. Thomas Island', 'trop. America', 'Tripura', 'Surinam', 'Boyac', 'Jordania', 'China (Gansu', 'Tokelau Island', 'Tristan dAcunha', 'Yaracuy', 'Cauca', 'Entre Rios'}"
   ]
  },
  {
   "cell_type": "markdown",
   "metadata": {},
   "source": [
    "__Entries requiring cleaning:__\n",
    "\n",
    "_1. Adding commas_: Japan  India; Russian Far East  North Korea; Panama Cuba; Colombia Bolivia; Brazil  Brazil; South Korea  Ryukyu Island; Rodrigues Island India; Kermadec Island Chatham Island\n",
    "\n",
    "_2. Removing special characters_: & Thailand; & Sumatra; #India; & European Russia\n",
    "\n",
    "_3. Fixing splitting_: and  Thailand; and Taiwan; China (Guangdong; India (Arunachal Pradesh; Comoros (Anjouan; and Afghanistan; China (Gansu; Canary Is.\n",
    "\n",
    "_4. Extracting places from phrases_: Sumatra to Sumatra; described from cultivated material in Holland; possibly from Ecuador; Vanuatu {this includes all Indian and Indochina populations of A. unilaterale fide Jenkins et al. . Whether the Australasian and Pacific records belong here; to be expected in Bolivia; to be expected in the Guianas; Norway to Hungary and Dalmatia; Malesia to New Guinea; Nicaragua to Colombia; ldenburg River to Morobe District;\n",
    "\n",
    "_5. Correcting misspellings_: EI Salvador; Falkland Island; Zanmbia; Channel Islandnds; Faroer Island; Kuri Island; Tawitawi; Sao Tom; Azerbajian; Marshall Island; Sao Tomee; Juan Fernndez Island; Galega Island; Mpulamanga; La Dsiderade; Marie Galante;"
   ]
  },
  {
   "cell_type": "markdown",
   "metadata": {},
   "source": [
    "__Entries requiring addition to dictionary:__\n",
    "\n",
    "_1. All states from the United States of America (Northern America)_: Alabama, Alaska, Arizona, Arkansas, California, Colorado, Connecticut, Delaware, Florida, Georgia, Hawaii, Idaho, Illinois, Indiana, Iowa, Kansas, Kentucky, Louisiana, Maine, Maryland, Massachusetts, Michigan, Minnesota, Mississippi, Missouri, Montana, Nebraska, Nevada, New Hampshire, New Jersey, New Mexico, New York, North Carolina, North Dakota, Ohio, Oklahoma, Oregon, Pennsylvania, Rhode Island, South Carolina, South Dakota, Tennessee, Texas, Utah, Vermont, Virginia, Washington, West Virginia, Wisconsin, Wyoming, District of Columbia\n",
    "\n",
    "_2. Undefined_: \n",
    "\n",
    "    _2a. Vague or Typo_: Victoria (Canada? Australia? Other?); St. Vincent (Canada? US? Portugal? Caribbean? France?); Vaups (?); Himalaya (large range, unclear where in Asia); Minanda Island (typo? unsure what this refers to); Boyac (fabric store?); Pico (not getting a result); Gambier Island (Canada? Or French Polynesia?); Acre (unclear if refers to Israel, England or Brazil); origin unknown; Flores (Northern America? Central America? South America?); North America (can fall into multiple regions); Eastern Mediterranean (can fall into multiple regions); Channel Island (England? USA?); Saharan Mts. (Tibesti Mountains potentially? can fall into multiple regions); Caucasus (mountain range, can fall into multiple regions); Prince Edward Island (Canada? Middle of Atlantic by Antarctica?); Alps (mountain range, can fall into multiple regions); trop. Africa (can fall into multiple regions); Lara (Venezuela? Turkey? Australia?); So Tom (unable to locate); Moen (Belgium? Denmark? Micronesia? Norway?); Santander (Philippines? Spain?); North Island (New Zealand? Seychelles?); Valle (Ecuador? Norway? USA? Spain? Croatia?); St. John (USA? Canada? Caribbean? UK?); Pahan (unable to located); Channel Islands (same as Channel Island); Pacific; Miranda (USA? Venezuela? Australia?); Choc (unable to locate); Caldas (Azerbaijan? Colombia?); Urals (can fall into multiple regions); trop. America (can fall into multiple regions); Cordoba (Spain? Argentina?); Indochina (can fall into multiple regions); Rivera (SWitzerland? Argentina? Uruguay? Colombia?); Ascension (Canada? USA? Mexico? Caribbean?); and surrounding islands; St. Christopher (unable to locate); trop. Asia (can fall into multiple regions); Thringen (unable to locate); Middle Island (Australia? Canada? USA?); Tabasco (USA? Mexico?); American Island (could not locate); Trujillo (USA? Spain? Peru? Venezuela? Honduras?); Falcon (could not locate); tropical Asia (can fall into multiple regions); Asia (can fall into multiple regions); Magdalena (can refer to multiple places); Carpathians (can fall into multiple regions); Europe (can fall into multiple regions); remains uncertain;\n",
    "    \n",
    "    _2b. Unclear jurisdiction_: Henderson Island (does not fall under any region? uninhabited); Chagos Arch. (middle of the Indian Ocean-- no region?); Tristan da Cunha (in the middle of the Atlantic); St. Helena (in the middle of the Atlantic); Kuril Island (dispute between Russia and Japan); Ile Amsterdam (middle of southern Indian Ocean); Iles Crozet (middle of southern Indian Ocean); Ascension Island (in the middle of the Atlantic); Island Amsterdam (same as Ile Amsterdam); Tristan dAcunha (same as Tristan da Cunha); New Ile Amsterdam (same as Ile Amsterdam); Pitcairn Island (middle of South Pacific); Gough Island (middle of the Atlantic); Nightingale Island (middle of the Atlantic); Islands Selvagens (unsure); Stoltenhoff Island (middle of the Atlantic); South Georgia Island (middle of the Atlantic, by Antarctica); Aleutes (Aleutian Islands? unclear jurisdiction);\n",
    "    \n",
    "    _2c. Other_ : cult.; Distribution unknown; Hort.; cultivated origin; Inaccessible Island; ; Cult.; etc.; ]; from\n",
    "\n",
    "_3. On a case by case basis_:\n",
    "- Northern Africa: Sinai peninsula; Malakal\n",
    "- Eastern Africa: Pemba Island; Limpopo; Rodrigues; Rodrigues Island; Zanzibar; Agalega Island;\n",
    "- Middle Africa: D.R.Congo; Annobon Island; Sao Tome; Bioko Island; Sao Tome; Principe Island; D.R. Congo;\n",
    "- Southern Africa: Gauteng; Swaziland; Marion Island; Cape Prov.; Natal; Mpumalanga;\n",
    "- Western Africa: Bissau; Cape Verde Island; Ivory Coast;\n",
    "- Caribbean: Mona Island; Nevis; St. Croix; Hispaniola; Greater Antilles; Marie Galante Island; Grenadines; Turks & Caicos Island, St. Kitts; Anegada; St. Barthelemy; St. Thomas; La Desirade; Cayman Island; La Desiderade; Tortola; Les Saintes Island; Virgin Island; Culebra Island; Island Margarita; St. Thomas Island; Nevis Island; St. Eustatius; Virgin Gorda; Lesser Antilles; Vieques Island; St. Lucia; St. Martin; Guana; Marie-galante; Marie-galante Island;\n",
    "- Central America: Campeche; Merida; Island Guadalupe; Queretaro; Yucatan; Distrito Federal; Central America; Morelos; Revillagigedos Island; Mexico State; Guerrero; Veracruz; U.S. Virgin Island; Puebla; Oaxaca; Chiapas; Colima; Quintana Roo; Tamaulipas; Island del Coco;\n",
    "- South America: Bahia; Galapagos Island; Guarico; Galapagos; Entre Rios; Sucre; South America; Surinam; Rio Grande do Sul; Tachira; Catamarca; Carabobo; Yaracuy; Putumayo; Misiones; Mato Grosso do Sul; Espirito Santo; Goias; Norte de Santander; Portuguesa; Rio de Janeiro; Barinas; Chaco; Cauca; Jujuy; Zulia; Sao Paulo; Nueva Esparta; Juan Fdz. Island; Corrientes; Formosa Prov.; Guianas; Huila; Parana; trop. South America; Cundinamarca; Juan Fernandez Island; Malpelo Island; Alagoas; subantarctic South America; Pernambuco; Tolima; Monagas; Tucuman; Salta; Amazonas; Santa Catarina;\n",
    "- Northern America: Baja California; Kerguelen Island; St. Pierre et Miquelon; Sitka Island; San Clemente Island; Santa Cruz Island; Santa Fe; Molokai; Kahoolawe Island; Carolina Island; Hawaii Island; Oahu; Maui; Island Crozet; Kahoolawe; Kauai; Lanai; St. Paul Island; Ontario; Iles Kerguelen;\n",
    "- Eastern Asia: Hebei; Tsushima Island; Ryukyu Island; Sichuan; Tibet; Yakushima Island; Guangxi; Xinjiang; Volcano Island; Izu Island; Yunnan; Cheju Island; Bonin Island; Tokara Island; Liaoning; Shanxi; Shaanxi; Tanegashima Island; Henan; Nei Mongol; Hainan;\n",
    "- Southeastern Asia: Pulau Langkawi; Selangor; Malaysia Selangor; Langkawi; Sabah; Sipora Island; Luzon; Lesser Sunda Island;  Pulau Tioman; Timor; Palawan; Burma; Sulawesi; Malay Islands; Sumatra; Lombok; Gunung Leuser; Perak; Negeri Sembilan; Java; Tawi-Tawi; Pahang; Flores Island; Sarawak; Johor; Malesia; Langkawi Island; Mindanao;\n",
    "- Southern Asia: Manipur; Pakistani Kashmir; Andaman Island; Tripura; Uttarakhand; Nicobar Island; Jammu & Kashmir; Himachal Pradesh; Meghalaya; Assam State; Nagaland;\n",
    "- Western Asia: Anatolia; European Turkey; Samha Island; Jordania; Socotra;\n",
    "- Eastern Europe: Siberia; Northern Caucasus; Crimea;\n",
    "- Northern Europe: England; Scandinavia; Spitsbergen;\n",
    "- Southern Europe: Corvo Island; Sao Miguel Island; Tenerife; Sardinia; Serbia & Kosovo; Madeira; Rhodos; Canary Islands; East Aegaean Island; Faial; Azores; Gran Canaria; Sao Jorge; La Palma Island; Elba; Crete; Dalmatia; Baleares; Canary Island; Sicily; Karpathos; Redonda; Fuerteventura; La Gomera; Terceira;\n",
    "- Western Europe: Corsica; Holland; Westfalen;\n",
    "- Australia & New Zealand: New South Wales; Lord Howe Island; Queensland; Tokelau Island; Tasmania; Chatham Island; Kermadec Island; Auckland Island; Antipodes Island; Macquarie Island; Campbell Island; Cook Island; Snares Island;\n",
    "- Melanesia, Micronesia & Polynesia: Ua Pou; Austral Island; Gilbert Island; Peleliu; Palau Island; Island of Pines; Oeno Atoll; Fatu Hiva; Line Island; Marianas; Tahuata; Rotuma Island; Marquesas; Wallis Island; Bismarck Island; Hiva Oa; Futuna Island; Morobe District; Society Island; Marquesas Island; Rota Island; Bismarck Arch.; Tinian; Tuamotu Arch.; Tahiti; Polynesia; Tuvalu Island; Melanesia; Nuku Hiva; Wallis and Futuna Island; Pohnpei; Solomon Island; Easter Island; Saipan;"
   ]
  }
 ],
 "metadata": {
  "kernelspec": {
   "display_name": "Python 3",
   "language": "python",
   "name": "python3"
  },
  "language_info": {
   "codemirror_mode": {
    "name": "ipython",
    "version": 3
   },
   "file_extension": ".py",
   "mimetype": "text/x-python",
   "name": "python",
   "nbconvert_exporter": "python",
   "pygments_lexer": "ipython3",
   "version": "3.6.1"
  }
 },
 "nbformat": 4,
 "nbformat_minor": 2
}
