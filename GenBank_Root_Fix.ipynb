{
 "cells": [
  {
   "cell_type": "markdown",
   "metadata": {},
   "source": [
    "This script serves to add the missing root element to GenBank records downloaded in INSDSeq_xml format.\n",
    "Outputs a new xml file ready for parsing with the script GenBank_ExtractionScript.ipynb"
   ]
  },
  {
   "cell_type": "code",
   "execution_count": null,
   "metadata": {
    "collapsed": true
   },
   "outputs": [],
   "source": [
    "from lxml import etree\n",
    "from lxml.html.soupparser import fromstring\n",
    "from bs4 import BeautifulSoup"
   ]
  },
  {
   "cell_type": "code",
   "execution_count": null,
   "metadata": {
    "collapsed": true
   },
   "outputs": [],
   "source": [
    "infile = 'polypodiales_download_2018-12-12'\n",
    "outfile = 'fixed_polypodiales_download.xml' "
   ]
  },
  {
   "cell_type": "markdown",
   "metadata": {},
   "source": [
    "Checks the number of records to see if they were correctly downloaded (correspond to the number in GenBank)"
   ]
  },
  {
   "cell_type": "code",
   "execution_count": null,
   "metadata": {
    "collapsed": true
   },
   "outputs": [],
   "source": [
    "with open(infile) as fin:\n",
    "    text = fin.read()\n",
    "\n",
    "print(text.count('<INSDSeq_locus>'))"
   ]
  },
  {
   "cell_type": "code",
   "execution_count": null,
   "metadata": {
    "collapsed": true
   },
   "outputs": [],
   "source": [
    "with open(infile, 'r') as fin:\n",
    "    text = fin.read()\n",
    "    \n",
    "# print(len(text))\n",
    "# tree = etree.fromstring(text)"
   ]
  },
  {
   "cell_type": "code",
   "execution_count": null,
   "metadata": {
    "collapsed": true
   },
   "outputs": [],
   "source": [
    "chunks = ['<INSDSeq>' + t.strip() for t in text.split('<INSDSeq>')]\n",
    "\n",
    "elements = []\n",
    "for c in chunks:\n",
    "    tree = etree.fromstring(BeautifulSoup(c, 'lxml').prettify())\n",
    "    elements.append(tree)"
   ]
  },
  {
   "cell_type": "code",
   "execution_count": null,
   "metadata": {
    "collapsed": true
   },
   "outputs": [],
   "source": [
    "node = etree.fromstring('<genestuff></genestuff>')\n",
    "\n",
    "for i, e in enumerate(elements):\n",
    "    node.insert(i, e)"
   ]
  },
  {
   "cell_type": "code",
   "execution_count": null,
   "metadata": {
    "collapsed": true
   },
   "outputs": [],
   "source": [
    "with open(outfile, 'wb') as fout:\n",
    "    fout.write(etree.tostring(node, pretty_print=True))"
   ]
  },
  {
   "cell_type": "markdown",
   "metadata": {},
   "source": [
    "Checks to see if the same number of records exist after root element is added."
   ]
  },
  {
   "cell_type": "code",
   "execution_count": null,
   "metadata": {
    "collapsed": true
   },
   "outputs": [],
   "source": [
    "with open(outfile) as fin:\n",
    "    text = fin.read()\n",
    "\n",
    "print(text.count('<insdseq_locus>'))"
   ]
  }
 ],
 "metadata": {
  "kernelspec": {
   "display_name": "Python 3",
   "language": "python",
   "name": "python3"
  },
  "language_info": {
   "codemirror_mode": {
    "name": "ipython",
    "version": 3
   },
   "file_extension": ".py",
   "mimetype": "text/x-python",
   "name": "python",
   "nbconvert_exporter": "python",
   "pygments_lexer": "ipython3",
   "version": "3.6.1"
  }
 },
 "nbformat": 4,
 "nbformat_minor": 2
}
